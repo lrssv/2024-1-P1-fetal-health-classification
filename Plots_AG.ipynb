{
  "nbformat": 4,
  "nbformat_minor": 0,
  "metadata": {
    "colab": {
      "provenance": []
    },
    "kernelspec": {
      "name": "python3",
      "display_name": "Python 3"
    }
  },
  "cells": [
    {
      "cell_type": "markdown",
      "source": [
        "# Imports"
      ],
      "metadata": {
        "id": "F7VHtbtEmmhm"
      }
    },
    {
      "cell_type": "code",
      "metadata": {
        "id": "OMmIipgQQZ1o"
      },
      "source": [
        "import pickle\n",
        "import pandas as pd\n",
        "import numpy as np\n",
        "import random\n",
        "import matplotlib.pyplot as plt\n",
        "import seaborn as sns\n",
        "from matplotlib.pyplot import figure\n",
        "from sklearn.tree import DecisionTreeClassifier\n",
        "from sklearn.ensemble import RandomForestClassifier\n",
        "from sklearn.model_selection import train_test_split\n",
        "from sklearn.metrics import mean_squared_error\n",
        "from sklearn.metrics import precision_score, recall_score, confusion_matrix, classification_report, accuracy_score, f1_score\n",
        "from google.colab import drive"
      ],
      "execution_count": null,
      "outputs": []
    },
    {
      "cell_type": "code",
      "source": [
        "drive.mount('/content/drive')"
      ],
      "metadata": {
        "colab": {
          "base_uri": "https://localhost:8080/"
        },
        "id": "g5_5n2IbMRf5",
        "outputId": "293fe3b1-56df-4ba6-9dcc-bb506b7ef6e3"
      },
      "execution_count": null,
      "outputs": [
        {
          "output_type": "stream",
          "name": "stdout",
          "text": [
            "Drive already mounted at /content/drive; to attempt to forcibly remount, call drive.mount(\"/content/drive\", force_remount=True).\n"
          ]
        }
      ]
    },
    {
      "cell_type": "markdown",
      "source": [
        "# Dataset"
      ],
      "metadata": {
        "id": "DO71jPMpmw1h"
      }
    },
    {
      "cell_type": "code",
      "source": [
        "url = '/content/drive/My Drive/Data Files/fetal_health.csv'\n",
        "df = pd.read_csv(url)"
      ],
      "metadata": {
        "id": "wmFVO2I0_ohU"
      },
      "execution_count": null,
      "outputs": []
    },
    {
      "cell_type": "code",
      "source": [
        "colours=[\"#324B9A\",\"#C7A3D7\", \"#E46270\"]\n",
        "figure(num=None, figsize=(6, 4), dpi=80, facecolor='w', edgecolor='k')\n",
        "sns.countplot(data=df, x=\"fetal_health\",palette=colours, hue=\"fetal_health\")\n",
        "plt.savefig('/content/drive/My Drive/Data Files/data_base.png')"
      ],
      "metadata": {
        "colab": {
          "base_uri": "https://localhost:8080/",
          "height": 312
        },
        "id": "_kvM7Smk_0bB",
        "outputId": "fed815ab-251d-40fd-d145-863070e3d870"
      },
      "execution_count": null,
      "outputs": [
        {
          "output_type": "display_data",
          "data": {
            "text/plain": [
              "<Figure size 480x320 with 1 Axes>"
            ],
            "image/png": "[encoded data removed]"
          },
          "metadata": {}
        }
      ]
    },
    {
      "cell_type": "code",
      "metadata": {
        "id": "6E9lM5nSQGbQ"
      },
      "source": [
        "with open(\"/content/drive/My Drive/Data Files/result_genetic_alg.txt\", \"rb\") as fp:\n",
        "  genetic_alg = pickle.load(fp)\n",
        "\n",
        "with open(\"/content/drive/My Drive/Data Files/result_initial_generation.txt\", \"rb\") as fp:\n",
        "  initial_population = pickle.load(fp)\n",
        "\n",
        "with open(\"/content/drive/My Drive/Data Files/best_indivs.txt\", \"rb\") as fp:\n",
        "  best_indivs = pickle.load(fp)"
      ],
      "execution_count": null,
      "outputs": []
    },
    {
      "cell_type": "markdown",
      "source": [
        "# Scripts"
      ],
      "metadata": {
        "id": "5MdNclPum2mx"
      }
    },
    {
      "cell_type": "code",
      "source": [
        "def best_of_each_generation(generation):\n",
        "  fitness = float('inf')\n",
        "  best_indiv = []\n",
        "\n",
        "  for i in generation:\n",
        "    if i[0] < fitness:\n",
        "      fitness = i[0]\n",
        "      best_indiv = i\n",
        "\n",
        "  return best_indiv"
      ],
      "metadata": {
        "id": "xs20bMHnCln8"
      },
      "execution_count": null,
      "outputs": []
    },
    {
      "cell_type": "code",
      "source": [
        "def evaluation(genetic_alg,reference):\n",
        "  indiv = best_of_each_generation(genetic_alg)\n",
        "  fitness = indiv[0]\n",
        "\n",
        "  x = df[df.columns.difference(['fetal_health'])]\n",
        "  y = df[['fetal_health']]\n",
        "\n",
        "  x_train, x_test, y_train, y_test = train_test_split(x, y, test_size=0.3, random_state=42)\n",
        "  x_train = np.array(x_train)\n",
        "  x_test = np.array(x_test)\n",
        "  y_train = np.ravel(y_train)\n",
        "  y_test = np.array(y_test)\n",
        "\n",
        "  model = models[indiv[1][0]]\n",
        "  ind = [i==0 for i in indiv[1][1:]]\n",
        "  model.fit(x_train[:,ind],y_train)\n",
        "  y_pred = model.predict(x_test[:,ind])\n",
        "  accuracy = accuracy_score(y_test,y_pred)\n",
        "\n",
        "  print('--------------- RESULTADO {} --------------- '.format(reference))\n",
        "  print('Melhor individuo: {} \\nQtd. de atributos: {} \\nFitness: {} \\nAcurácia: {}'.format(indiv[1],np.sum(indiv[1:]),fitness,accuracy))"
      ],
      "metadata": {
        "id": "KSuurkU3RniE"
      },
      "execution_count": null,
      "outputs": []
    },
    {
      "cell_type": "markdown",
      "source": [
        "#Results"
      ],
      "metadata": {
        "id": "4fFKsuP_m6MM"
      }
    },
    {
      "cell_type": "code",
      "source": [
        "models = [DecisionTreeClassifier(max_depth=4),\n",
        "          DecisionTreeClassifier(max_depth=6),\n",
        "          DecisionTreeClassifier(max_depth=8),\n",
        "          RandomForestClassifier(max_depth=14),\n",
        "          RandomForestClassifier(max_depth=16),\n",
        "          RandomForestClassifier(max_depth=20)]"
      ],
      "metadata": {
        "id": "SJAs__fwSUrR"
      },
      "execution_count": null,
      "outputs": []
    },
    {
      "cell_type": "code",
      "source": [
        "evaluation(initial_population, 'PRIMEIRA GERAÇÃO')"
      ],
      "metadata": {
        "colab": {
          "base_uri": "https://localhost:8080/"
        },
        "id": "8nt9w0y1Ug7L",
        "outputId": "db546189-89fa-4c4c-8fd9-fd7f81ec7129"
      },
      "execution_count": null,
      "outputs": [
        {
          "output_type": "stream",
          "name": "stdout",
          "text": [
            "--------------- RESULTADO PRIMEIRA GERAÇÃO --------------- \n",
            "Melhor individuo: [4, True, False, False, False, False, False, False, True, False, False, False, False, False, False, True, False, False, True, True, False, False] \n",
            "Qtd. de atributos: 9 \n",
            "Fitness: 12.918075824648959 \n",
            "Acurácia: 0.9153605015673981\n"
          ]
        }
      ]
    },
    {
      "cell_type": "code",
      "source": [
        "evaluation(genetic_alg, 'ALGORITMO GENÉTICO')"
      ],
      "metadata": {
        "colab": {
          "base_uri": "https://localhost:8080/"
        },
        "id": "sIq3zl4aDn_P",
        "outputId": "14356ee5-7012-48d6-978e-82d6fc530f85"
      },
      "execution_count": null,
      "outputs": [
        {
          "output_type": "stream",
          "name": "stdout",
          "text": [
            "--------------- RESULTADO ALGORITMO GENÉTICO --------------- \n",
            "Melhor individuo: [2, True, False, False, False, False, False, True, False, False, False, False, False, False, False, False, False, False, True, False, False, False] \n",
            "Qtd. de atributos: 5 \n",
            "Fitness: 10.717585666945705 \n",
            "Acurácia: 0.8996865203761756\n"
          ]
        }
      ]
    },
    {
      "cell_type": "code",
      "metadata": {
        "id": "80kGhlpcQsH4",
        "colab": {
          "base_uri": "https://localhost:8080/",
          "height": 311
        },
        "outputId": "944f4401-3dce-4281-c8c0-d3ad4d2c0533"
      },
      "source": [
        "y = [best[0] for best in best_indivs]\n",
        "x = list(range(1, 51))\n",
        "z = [best[0] for best in genetic_alg]\n",
        "\n",
        "figure(num=None, figsize=(6, 4), dpi=80, facecolor='w', edgecolor='k')\n",
        "plt.plot(x, y, color='#324B9A')\n",
        "plt.xticks(range(0,51,5))\n",
        "plt.xlabel('Gerações')\n",
        "plt.ylabel('Erro médio + atributos')\n",
        "plt.legend(['Melhores por geração'])\n",
        "plt.rcParams.update({'font.size': 10})\n",
        "plt.savefig('/content/drive/My Drive/Data Files/bests_in_generation.png')"
      ],
      "execution_count": null,
      "outputs": [
        {
          "output_type": "display_data",
          "data": {
            "text/plain": [
              "<Figure size 480x320 with 1 Axes>"
            ],
            "image/png": "[encoded data removed]"
          },
          "metadata": {}
        }
      ]
    },
    {
      "cell_type": "code",
      "metadata": {
        "id": "3hZu7imJb98o",
        "colab": {
          "base_uri": "https://localhost:8080/",
          "height": 311
        },
        "outputId": "2cce29e7-5df7-407b-b1c7-a7202bb98f62"
      },
      "source": [
        "result = [best[0] for best in genetic_alg]\n",
        "result.sort(reverse=True)\n",
        "\n",
        "plt.rcParams.update({'font.size': 10})\n",
        "figure(num=None, figsize=(6, 4), dpi=80, facecolor='w', edgecolor='k')\n",
        "\n",
        "plt.plot(result,'-', color='#C7A3D7')\n",
        "\n",
        "plt.xticks(range(0,105,5))\n",
        "plt.xlabel('Individuos')\n",
        "plt.ylabel('Erro médio + atributos')\n",
        "plt.legend(['População final'])\n",
        "plt.savefig('/content/drive/My Drive/Data Files/final_population.png')"
      ],
      "execution_count": null,
      "outputs": [
        {
          "output_type": "display_data",
          "data": {
            "text/plain": [
              "<Figure size 480x320 with 1 Axes>"
            ],
            "image/png": "[encoded data removed]"
          },
          "metadata": {}
        }
      ]
    }
  ]
}